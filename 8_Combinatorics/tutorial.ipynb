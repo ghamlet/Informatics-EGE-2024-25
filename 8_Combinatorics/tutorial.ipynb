{
 "cells": [
  {
   "cell_type": "markdown",
   "metadata": {},
   "source": [
    "# 1 Тип. Слова в алфавитном порядке"
   ]
  },
  {
   "cell_type": "markdown",
   "metadata": {},
   "source": [
    "Всегда используется product из itertools"
   ]
  },
  {
   "cell_type": "code",
   "execution_count": 2,
   "metadata": {},
   "outputs": [],
   "source": [
    "from itertools import product"
   ]
  },
  {
   "cell_type": "markdown",
   "metadata": {},
   "source": [
    "# Буквы Я, Н, В, А, Р, Ь, записаны в алфавитном порядке\n",
    "\n",
    "Чтобы не мучиться и не вспоминать алфавит, используем функцию sorted"
   ]
  },
  {
   "cell_type": "code",
   "execution_count": null,
   "metadata": {},
   "outputs": [],
   "source": [
    "for p in product(sorted(set(\"ЯНВАРЬ\")), repeat=5):\n"
   ]
  },
  {
   "cell_type": "markdown",
   "metadata": {},
   "source": [
    "# Обратный алфавитный порядок (добавляем reverse=True)"
   ]
  },
  {
   "cell_type": "code",
   "execution_count": null,
   "metadata": {},
   "outputs": [],
   "source": [
    "for p in product(sorted(set(\"ЯНВАРЬ\"), reverse=True), repeat=5):\n"
   ]
  },
  {
   "cell_type": "markdown",
   "metadata": {},
   "source": [
    "# В условии могут дать не буквы, из которых составляют слова, а дать слово из букв которого будут составлять слова \n",
    "\n",
    "Например:\n",
    "КАЛЕЙДОСКОП\n",
    "\n",
    "# В этом слове 2 буквы К и 2 буквы О, но product будет воспринимать две буквы О как 2 разные буквы\n",
    "Чтобы получить уникальные символы из слова используем set()"
   ]
  },
  {
   "cell_type": "code",
   "execution_count": null,
   "metadata": {},
   "outputs": [],
   "source": [
    "for p in product(sorted(set(\"КАЛЕЙДОСКОП\"), reverse=True), repeat=6):\n"
   ]
  },
  {
   "cell_type": "markdown",
   "metadata": {},
   "source": [
    "# Получаем из кортежа цельное слово"
   ]
  },
  {
   "cell_type": "code",
   "execution_count": null,
   "metadata": {},
   "outputs": [],
   "source": [
    "word = \"\".join(p)\n"
   ]
  },
  {
   "cell_type": "markdown",
   "metadata": {},
   "source": [
    "# Чтобы правильно определить номер нужного слова заводим счетчик в соответсвии с первым словом из примера\n",
    "![](../images/9.png)\n",
    "\n",
    "Здесь k = 1\n",
    "\n",
    "![](../images/10.png)\n",
    "Здесь k = 0\n",
    "\n",
    "Дальше в обеих ситуациях увеличиваем счетчик после условия\n"
   ]
  },
  {
   "cell_type": "code",
   "execution_count": null,
   "metadata": {},
   "outputs": [],
   "source": [
    "from itertools import product\n",
    "\n",
    "k = 0\n",
    "\n",
    "for p in product(sorted(set(\"КАЛЕЙДОСКОП\"), reverse=True), repeat=6):\n",
    "    word = \"\".join(p)\n",
    "    \n",
    "    if k % 2== 0 and word[0] == \"К\" and word.count(\"Й\") >= 2 and \"С\" not in word and \"Е\" not in word:\n",
    "        print(k, word)\n",
    "        break\n",
    "    \n",
    "    k += 1"
   ]
  }
 ],
 "metadata": {
  "kernelspec": {
   "display_name": "Python 3",
   "language": "python",
   "name": "python3"
  },
  "language_info": {
   "codemirror_mode": {
    "name": "ipython",
    "version": 3
   },
   "file_extension": ".py",
   "mimetype": "text/x-python",
   "name": "python",
   "nbconvert_exporter": "python",
   "pygments_lexer": "ipython3",
   "version": "3.10.12"
  }
 },
 "nbformat": 4,
 "nbformat_minor": 2
}
