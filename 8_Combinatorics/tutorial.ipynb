{
 "cells": [
  {
   "cell_type": "markdown",
   "metadata": {},
   "source": [
    "# 1 Тип. Слова в алфавитном порядке"
   ]
  },
  {
   "cell_type": "markdown",
   "metadata": {},
   "source": [
    "Всегда используется product из itertools"
   ]
  },
  {
   "cell_type": "code",
   "execution_count": 2,
   "metadata": {},
   "outputs": [],
   "source": [
    "from itertools import product"
   ]
  },
  {
   "cell_type": "markdown",
   "metadata": {},
   "source": [
    "# Буквы Я, Н, В, А, Р, Ь, записаны в алфавитном порядке\n",
    "\n",
    "Чтобы не мучиться и не вспоминать алфавит, используем функцию sorted"
   ]
  },
  {
   "cell_type": "code",
   "execution_count": null,
   "metadata": {},
   "outputs": [],
   "source": [
    "for p in product(sorted(set(\"ЯНВАРЬ\")), repeat=5):\n"
   ]
  },
  {
   "cell_type": "markdown",
   "metadata": {},
   "source": [
    "# ВАЖНО !!!\n",
    "\n",
    "В задачах, где используются буквы и цифры функция sorted в начало помещает цифры, а не буквы.\n",
    "Например: Петя составляет четырехбуквенные слова из символов КЕГЭ2023 и записывает их в алфавитном порядке в список"
   ]
  },
  {
   "cell_type": "code",
   "execution_count": null,
   "metadata": {},
   "outputs": [],
   "source": [
    "from itertools import product\n",
    "\n",
    "for p in product(sorted(set(\"КЕГЭ2023\")), repeat=4):\n",
    "    word = \"\".join(p)\n",
    "    print(word)"
   ]
  },
  {
   "cell_type": "markdown",
   "metadata": {},
   "source": [
    "А должно быть так:\n",
    "\n",
    "![](../images/11.png)\n",
    "\n",
    "\n",
    "Поэтому вручную указываем правильный порядок"
   ]
  },
  {
   "cell_type": "code",
   "execution_count": null,
   "metadata": {},
   "outputs": [],
   "source": [
    "for p in product(\"ГЕКЭ023\", repeat=4):\n",
    "    word = \"\".join(p)\n",
    "    print(word)\n"
   ]
  },
  {
   "cell_type": "markdown",
   "metadata": {},
   "source": [
    "# Обратный алфавитный порядок (добавляем reverse=True)"
   ]
  },
  {
   "cell_type": "code",
   "execution_count": null,
   "metadata": {},
   "outputs": [],
   "source": [
    "for p in product(sorted(set(\"ЯНВАРЬ\"), reverse=True), repeat=5):\n"
   ]
  },
  {
   "cell_type": "markdown",
   "metadata": {},
   "source": [
    "# В условии могут дать не буквы, из которых составляют слова, а дать слово из букв которого будут составлять слова \n",
    "\n",
    "Например:\n",
    "КАЛЕЙДОСКОП\n",
    "\n",
    "# В этом слове 2 буквы К и 2 буквы О, но product будет воспринимать две буквы О как 2 разные буквы\n",
    "Чтобы получить уникальные символы из слова используем set()"
   ]
  },
  {
   "cell_type": "code",
   "execution_count": null,
   "metadata": {},
   "outputs": [],
   "source": [
    "for p in product(sorted(set(\"КАЛЕЙДОСКОП\"), reverse=True), repeat=6):\n"
   ]
  },
  {
   "cell_type": "markdown",
   "metadata": {},
   "source": [
    "# Получаем из кортежа цельное слово"
   ]
  },
  {
   "cell_type": "code",
   "execution_count": null,
   "metadata": {},
   "outputs": [],
   "source": [
    "word = \"\".join(p)\n"
   ]
  },
  {
   "cell_type": "markdown",
   "metadata": {},
   "source": [
    "# Чтобы правильно определить номер нужного слова заводим счетчик в соответсвии с первым словом из примера\n",
    "![](../images/9.png)\n",
    "\n",
    "Здесь k = 1\n",
    "\n",
    "![](../images/10.png)\n",
    "\n",
    "Здесь k = 0\n",
    "\n",
    "Дальше в обеих ситуациях увеличиваем счетчик после условия\n"
   ]
  },
  {
   "cell_type": "code",
   "execution_count": null,
   "metadata": {},
   "outputs": [],
   "source": [
    "from itertools import product\n",
    "\n",
    "k = 0\n",
    "\n",
    "for p in product(sorted(set(\"КАЛЕЙДОСКОП\"), reverse=True), repeat=6):\n",
    "    word = \"\".join(p)\n",
    "    \n",
    "    if k % 2== 0 and word[0] == \"К\" and word.count(\"Й\") >= 2 and \"С\" not in word and \"Е\" not in word:\n",
    "        print(k, word)\n",
    "        break\n",
    "    \n",
    "    k += 1"
   ]
  },
  {
   "cell_type": "markdown",
   "metadata": {},
   "source": [
    "# Содержат не более трёх согласных"
   ]
  },
  {
   "cell_type": "code",
   "execution_count": null,
   "metadata": {},
   "outputs": [],
   "source": [
    "sum(word.count(symbol) for symbol in \"ПРСТЛ\") <= 3"
   ]
  },
  {
   "cell_type": "markdown",
   "metadata": {},
   "source": [
    "# Слово, в котором согласных букв не меньше, чем гласных"
   ]
  },
  {
   "cell_type": "code",
   "execution_count": null,
   "metadata": {},
   "outputs": [],
   "source": [
    "sogl = \"МНС\"\n",
    "glasn = \"ИУ\"\n",
    "\n",
    "sum(word.count(ch) for ch in sogl)  >=  sum(word.count(ch) for ch in glasn)"
   ]
  },
  {
   "cell_type": "markdown",
   "metadata": {},
   "source": [
    "# Все слова составленные из букв русского алфавита, записаны в обратном алфавитном порядке и пронумерованы."
   ]
  },
  {
   "cell_type": "code",
   "execution_count": 6,
   "metadata": {},
   "outputs": [
    {
     "name": "stdout",
     "output_type": "stream",
     "text": [
      "АБВГДЕЖЗИЙКЛМНОПРСТУФХЦЧШЩЪЫЬЭЮЯ\n",
      "32\n",
      "ϼϽϾϿЀЁЂЃЄЅ\n"
     ]
    }
   ],
   "source": [
    "a = ord(\"А\")    # числовой код ascii символа\n",
    "\n",
    "alphabet = \"\".join([chr(letter) for letter in range(a, a + 32)])    # chr операция получения символа по его ascii коду\n",
    "print(alphabet)\n",
    "\n",
    "# Но длина алфавита 32 символа вместо 33\n",
    "print(len(alphabet))\n",
    "\n",
    "# Дело в том что буква Ё в таблице ascii расположена рядом со странными символами\n",
    "e = ord(\"Ё\")\n",
    "print(\"\".join([chr(letter) for letter in range(e-5, e + 5)]) )\n",
    "\n",
    "\n"
   ]
  },
  {
   "cell_type": "markdown",
   "metadata": {},
   "source": [
    "# В результате чтобы получить полный алфавит можно вручную дописать букву Ё после Е"
   ]
  },
  {
   "cell_type": "markdown",
   "metadata": {},
   "source": [
    "# Либо можно вручную перепечатать все буквы с клавиатуры, отсортировать их в нужном порядке функцией sorted и дописать Ё (потому что методы сортировки также задействуют числовые коды символов)"
   ]
  },
  {
   "cell_type": "code",
   "execution_count": 9,
   "metadata": {},
   "outputs": [
    {
     "name": "stdout",
     "output_type": "stream",
     "text": [
      "ЯЮЭЬЫЪЩШЧЦХФУТСРПОНМЛКЙИЗЖЕДГВБА\n"
     ]
    }
   ],
   "source": [
    "alphabet = \"ЙЦУКЕНГШЩЗХЪФЫВАПРОЛДЖЭЯЧСМИТЬБЮ\"\n",
    "print(\"\".join(sorted(alphabet, reverse=True)))\n",
    "\n",
    "# ЯЮЭЬЫЪЩШЧЦХФУТСРПОНМЛКЙИЗЖЕДГВБА\n",
    "# дописываем Ё\n",
    "# ЯЮЭЬЫЪЩШЧЦХФУТСРПОНМЛКЙИЗЖЁЕДГВБА"
   ]
  },
  {
   "cell_type": "markdown",
   "metadata": {},
   "source": [
    "# Сумма порядковых номеров гласных букв, в каждом слове, равна 11"
   ]
  },
  {
   "cell_type": "code",
   "execution_count": null,
   "metadata": {},
   "outputs": [],
   "source": [
    "glasnye = \"АИ\"\n",
    "\n",
    "if sum(index +1 for glasn in glasnye  for index, char in enumerate(word) if char == glasn) == 11:\n"
   ]
  },
  {
   "cell_type": "markdown",
   "metadata": {},
   "source": [
    "# Хотя бы две гласные, стоящие рядом."
   ]
  },
  {
   "cell_type": "code",
   "execution_count": null,
   "metadata": {},
   "outputs": [],
   "source": [
    "if any(True for comb in product(\"АИ\", repeat=2) if  \"\".join(comb) in word):\n"
   ]
  },
  {
   "cell_type": "markdown",
   "metadata": {},
   "source": [
    "# Слово, в котором все буквы различны"
   ]
  },
  {
   "cell_type": "code",
   "execution_count": null,
   "metadata": {},
   "outputs": [],
   "source": [
    "if len(word) == len(set(word)):"
   ]
  },
  {
   "cell_type": "markdown",
   "metadata": {},
   "source": [
    "# Все символы слова располагаются в алфавитном порядке"
   ]
  },
  {
   "cell_type": "code",
   "execution_count": null,
   "metadata": {},
   "outputs": [],
   "source": [
    "if word == \"\".join(sorted(word)):"
   ]
  },
  {
   "cell_type": "markdown",
   "metadata": {},
   "source": [
    "# Пятибуквенное слово, в котором только одна буква повторяется дважды, а остальные не повторяются?"
   ]
  },
  {
   "cell_type": "code",
   "execution_count": null,
   "metadata": {},
   "outputs": [],
   "source": [
    "if len(set(word)) == 4:"
   ]
  },
  {
   "cell_type": "markdown",
   "metadata": {},
   "source": [
    "# Слово не содержащее двух подряд идущих одинаковых символов"
   ]
  },
  {
   "cell_type": "code",
   "execution_count": null,
   "metadata": {},
   "outputs": [],
   "source": [
    "if all(word[i] != word[i+1] for i in range(len(word)-1)):"
   ]
  }
 ],
 "metadata": {
  "kernelspec": {
   "display_name": "Python 3",
   "language": "python",
   "name": "python3"
  },
  "language_info": {
   "codemirror_mode": {
    "name": "ipython",
    "version": 3
   },
   "file_extension": ".py",
   "mimetype": "text/x-python",
   "name": "python",
   "nbconvert_exporter": "python",
   "pygments_lexer": "ipython3",
   "version": "3.10.12"
  }
 },
 "nbformat": 4,
 "nbformat_minor": 2
}
