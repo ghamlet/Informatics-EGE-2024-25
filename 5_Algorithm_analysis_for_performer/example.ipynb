{
 "cells": [
  {
   "cell_type": "markdown",
   "metadata": {},
   "source": [
    "# Перевод из десятичной системы в другие \n",
    "\n",
    "1) Двоичная\n",
    "```\n",
    "num = 123\n",
    "n = bin(num)[2:]\n",
    "```\n",
    "\n",
    "2) Восьмеричная\n",
    "```\n",
    "num = 123\n",
    "n = oct(num)[2:]\n",
    "```\n",
    "\n",
    "3) Шестнадцатеричная\n",
    "```\n",
    "num = 123\n",
    "n = hex(num)[2:]\n",
    "```\n",
    "\n",
    "4) Другие системы (до десятичной)\n",
    "```\n",
    "def convert_to(number, base):\n",
    "    result =\"\"\n",
    "\n",
    "    while number >0:\n",
    "        result += str(x % base)\n",
    "        number = number // base\n",
    "        \n",
    "    return result[::-1]\n",
    "\n",
    "```\n",
    "\n",
    "5) Другие системы (от десятичной)\n",
    "```\n",
    "def convert_to(number, base):\n",
    "    digits = '0123456789abcdefghijklmnopqrstuvwxyz'\n",
    "    result = ''\n",
    "\n",
    "    while number > 0:\n",
    "        result = digits[number % base] + result\n",
    "        number //= base\n",
    "\n",
    "    return result"
   ]
  },
  {
   "cell_type": "markdown",
   "metadata": {},
   "source": [
    "# Перевод из других систем счисления в десятичную"
   ]
  },
  {
   "cell_type": "code",
   "execution_count": 19,
   "metadata": {},
   "outputs": [
    {
     "name": "stdout",
     "output_type": "stream",
     "text": [
      "27\n"
     ]
    }
   ],
   "source": [
    "n = \"123\"\n",
    "base = 4\n",
    "\n",
    "dec = int(n, base)\n",
    "print(dec)"
   ]
  },
  {
   "cell_type": "markdown",
   "metadata": {},
   "source": [
    "# Как проверить что двоичное число четное"
   ]
  },
  {
   "cell_type": "code",
   "execution_count": 11,
   "metadata": {},
   "outputs": [
    {
     "name": "stdout",
     "output_type": "stream",
     "text": [
      "10010010\n",
      "Число четное\n",
      "10010011\n",
      "Число нечетное\n"
     ]
    }
   ],
   "source": [
    "n1 = 146\n",
    "n2 = 147\n",
    "\n",
    "def is_even(n):\n",
    "    bn = bin(n)[2:]\n",
    "    if bn.endswith(\"0\"):\n",
    "        print(bn)\n",
    "        print(\"Число четное\")\n",
    "    else:\n",
    "        print(bn)\n",
    "        print(\"Число нечетное\")\n",
    "        \n",
    "\n",
    "is_even(n1)\n",
    "is_even(n2)"
   ]
  },
  {
   "cell_type": "markdown",
   "metadata": {},
   "source": [
    "# Частые операции\n",
    "дописывается и приписывается\n",
    "слева:\n",
    "n = \"10\" + n\n",
    "справа:\n",
    "n = n + \"10\"  (n += \"10\")\n",
    "\n",
    "\n",
    "два правых разряда заменяются на 10  \n",
    "n = n[:-2] + \"10\"\n",
    "два левых разряда заменяются на 10\n",
    "n = \"10\" + n[2:] \n"
   ]
  },
  {
   "cell_type": "markdown",
   "metadata": {},
   "source": [
    "# Каждый разряд десятичного числа кодируется с помощью 4 бит"
   ]
  },
  {
   "cell_type": "code",
   "execution_count": 16,
   "metadata": {},
   "outputs": [
    {
     "name": "stdout",
     "output_type": "stream",
     "text": [
      "['0001']\n"
     ]
    }
   ],
   "source": [
    "n = 1\n",
    "m = [bin(int(razryad))[2:].zfill(4) for razryad in str(n)]\n",
    "print(m)"
   ]
  },
  {
   "cell_type": "markdown",
   "metadata": {},
   "source": [
    "# Инверсия двоичной последовательности "
   ]
  },
  {
   "cell_type": "code",
   "execution_count": 1,
   "metadata": {},
   "outputs": [
    {
     "name": "stdout",
     "output_type": "stream",
     "text": [
      "01100110\n"
     ]
    }
   ],
   "source": [
    "chislo = \"10011001\"\n",
    "\n",
    "chislo = chislo.replace(\"1\", \"2\")\n",
    "chislo = chislo.replace(\"0\", \"1\")\n",
    "chislo = chislo.replace(\"2\", \"0\")\n",
    "\n",
    "print(chislo) "
   ]
  },
  {
   "cell_type": "markdown",
   "metadata": {},
   "source": [
    "# Построить все n-значные числа из данного"
   ]
  },
  {
   "cell_type": "code",
   "execution_count": 12,
   "metadata": {},
   "outputs": [
    {
     "name": "stdout",
     "output_type": "stream",
     "text": [
      "{72, 42, 74, 78, 47, 48, 82, 84, 87, 24, 27, 28}\n"
     ]
    }
   ],
   "source": [
    "from itertools import permutations\n",
    "\n",
    "n = 2478\n",
    "numbers = set([int(''.join(i)) for i in permutations(str(n), r=2) if i[0]!=\"0\"])    # if i[0]!=\"0\" чтобы первый разряд не пропадал\n",
    "print(numbers)\n"
   ]
  },
  {
   "cell_type": "markdown",
   "metadata": {},
   "source": [
    "# Удалить незначащие нули"
   ]
  },
  {
   "cell_type": "code",
   "execution_count": 4,
   "metadata": {},
   "outputs": [
    {
     "name": "stdout",
     "output_type": "stream",
     "text": [
      "10\n",
      "10\n"
     ]
    }
   ],
   "source": [
    "n = \"00010\"\n",
    "\n",
    "# 1\n",
    "print(n.lstrip(\"0\"))\n",
    "\n",
    "# 2\n",
    "print(int(n))"
   ]
  },
  {
   "cell_type": "markdown",
   "metadata": {},
   "source": [
    "# Количество единиц, стоящих на чётных местах"
   ]
  },
  {
   "cell_type": "code",
   "execution_count": 5,
   "metadata": {},
   "outputs": [
    {
     "name": "stdout",
     "output_type": "stream",
     "text": [
      "2\n"
     ]
    }
   ],
   "source": [
    "n2 = \"100111\"\n",
    "\n",
    "k_1 = len([ch for ind, ch in enumerate(n2) if (ind +1) % 2 == 0 and ch == '1'])\n",
    "print(k_1)"
   ]
  },
  {
   "cell_type": "markdown",
   "metadata": {},
   "source": [
    "# Количество нулей, стоящих на нечётных местах"
   ]
  },
  {
   "cell_type": "code",
   "execution_count": 7,
   "metadata": {},
   "outputs": [
    {
     "name": "stdout",
     "output_type": "stream",
     "text": [
      "1\n"
     ]
    }
   ],
   "source": [
    "n2 = \"100111\"\n",
    "\n",
    "k_0 = len([ch for ind, ch in enumerate(n2) if (ind +1) % 2 != 0 and ch == '0'])\n",
    "print(k_0)"
   ]
  },
  {
   "cell_type": "markdown",
   "metadata": {},
   "source": [
    "# Сумма чётных цифр в десятичной записи"
   ]
  },
  {
   "cell_type": "code",
   "execution_count": null,
   "metadata": {},
   "outputs": [],
   "source": [
    "sum_1 = sum(int(d) for d in str(n) if int(d) % 2 == 0)\n"
   ]
  },
  {
   "cell_type": "markdown",
   "metadata": {},
   "source": [
    "# Все пары соседних цифр в десятичной записи N рассматриваются как двузначные числа (возможно, с ведущим нулём).\n"
   ]
  },
  {
   "cell_type": "code",
   "execution_count": 15,
   "metadata": {},
   "outputs": [
    {
     "name": "stdout",
     "output_type": "stream",
     "text": [
      "[20, 2, 25]\n"
     ]
    }
   ],
   "source": [
    "n = \"2025\"\n",
    "    \n",
    "combo = [int(n[i] + n[i+1]) for i in range(len(n)-1)]\n",
    "print(combo)"
   ]
  },
  {
   "cell_type": "markdown",
   "metadata": {},
   "source": [
    "# Нахождение максимальной цифры числа встречающейся наибольшее число раз"
   ]
  },
  {
   "cell_type": "code",
   "execution_count": 22,
   "metadata": {},
   "outputs": [
    {
     "name": "stdout",
     "output_type": "stream",
     "text": [
      "6\n"
     ]
    }
   ],
   "source": [
    "n = \"12344566\"\n",
    "\n",
    "def find_max_most_common_digit(number: str):\n",
    "    m = []\n",
    "    max_common_digit = 0\n",
    "\n",
    "    for digit in range(9):\n",
    "        m.append([digit, number.count(str(digit))])\n",
    "        \n",
    "    most_freq = max(m, key= lambda x: x[1])[1]\n",
    "\n",
    "\n",
    "    for item in m:\n",
    "        if item[1] == most_freq:\n",
    "            max_common_digit = max(max_common_digit, item[0])\n",
    "            \n",
    "    return str(max_common_digit)\n",
    "\n",
    "\n",
    "digit = find_max_most_common_digit(n)\n",
    "print(digit)"
   ]
  }
 ],
 "metadata": {
  "kernelspec": {
   "display_name": "Python 3",
   "language": "python",
   "name": "python3"
  },
  "language_info": {
   "codemirror_mode": {
    "name": "ipython",
    "version": 3
   },
   "file_extension": ".py",
   "mimetype": "text/x-python",
   "name": "python",
   "nbconvert_exporter": "python",
   "pygments_lexer": "ipython3",
   "version": "3.10.12"
  }
 },
 "nbformat": 4,
 "nbformat_minor": 2
}
