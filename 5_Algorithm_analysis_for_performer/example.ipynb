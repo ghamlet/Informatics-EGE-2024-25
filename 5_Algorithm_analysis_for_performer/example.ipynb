{
 "cells": [
  {
   "cell_type": "markdown",
   "metadata": {},
   "source": [
    "# Перевод в другие системы счисления\n",
    "\n",
    "1) Двоичная\n",
    "```\n",
    "num = 123\n",
    "n = bin(num)[2:]\n",
    "```\n",
    "\n",
    "2) Восьмеричная\n",
    "```\n",
    "num = 123\n",
    "n = oct(num)[2:]\n",
    "```\n",
    "\n",
    "3) Шестнадцатеричная\n",
    "```\n",
    "num = 123\n",
    "n = hex(num)[2:]\n",
    "```\n",
    "\n",
    "4) Другие системы\n",
    "```\n",
    "def convert_tool(x, sys_schislenya):\n",
    "    s =\"\"\n",
    "    while x >0:\n",
    "        s += str(x % sys_schislenya)\n",
    "        x = x // sys_schislenya\n",
    "        \n",
    "    return s[::-1]\n",
    "\n",
    "```"
   ]
  },
  {
   "cell_type": "markdown",
   "metadata": {},
   "source": [
    "# Как проверить что двоичное число четное\n",
    "``` \n",
    "\n",
    "```"
   ]
  },
  {
   "cell_type": "code",
   "execution_count": 11,
   "metadata": {},
   "outputs": [
    {
     "name": "stdout",
     "output_type": "stream",
     "text": [
      "10010010\n",
      "Число четное\n",
      "10010011\n",
      "Число нечетное\n"
     ]
    }
   ],
   "source": [
    "n1 = 146\n",
    "n2 = 147\n",
    "\n",
    "def is_even(n):\n",
    "    bn = bin(n)[2:]\n",
    "    if bn.endswith(\"0\"):\n",
    "        print(bn)\n",
    "        print(\"Число четное\")\n",
    "    else:\n",
    "        print(bn)\n",
    "        print(\"Число нечетное\")\n",
    "        \n",
    "\n",
    "is_even(n1)\n",
    "is_even(n2)"
   ]
  },
  {
   "cell_type": "markdown",
   "metadata": {},
   "source": [
    "# Частые операции\n",
    "дописывается и приписывается\n",
    "слева:\n",
    "n = \"10\" + n\n",
    "справа:\n",
    "n = n + \"10\"  (n += \"10\")\n",
    "\n",
    "\n",
    "два правых разряда заменяются на 10  \n",
    "n = n[:-2] + \"10\"\n",
    "два левых разряда заменяются на 10\n",
    "n = \"10\" + n[2:] \n"
   ]
  },
  {
   "cell_type": "markdown",
   "metadata": {},
   "source": [
    "# Каждый разряд десятичного числа кодируется с помощью 4 бит"
   ]
  },
  {
   "cell_type": "code",
   "execution_count": null,
   "metadata": {},
   "outputs": [],
   "source": [
    "[bin(int(razryad))[2:].zfill(4) for razryad in str(n)]\n",
    "\n",
    "1) Переводим число в строку, чтобы можно было работать с каждой цифрой отдельно.\n",
    "2) Проходимся по каждой цифре и преобразовываем каждую цифру в бинарный формат.\n",
    "3) Добавляем начальные нули (leading zeros) к каждой бинарной строке, чтобы она была длиной 4 символов."
   ]
  },
  {
   "cell_type": "markdown",
   "metadata": {},
   "source": [
    "# Инверсия двоичной последовательности "
   ]
  },
  {
   "cell_type": "code",
   "execution_count": 1,
   "metadata": {},
   "outputs": [
    {
     "name": "stdout",
     "output_type": "stream",
     "text": [
      "01100110\n"
     ]
    }
   ],
   "source": [
    "chislo = \"10011001\"\n",
    "\n",
    "chislo = chislo.replace(\"1\", \"2\")\n",
    "chislo = chislo.replace(\"0\", \"1\")\n",
    "chislo = chislo.replace(\"2\", \"0\")\n",
    "\n",
    "print(chislo) "
   ]
  },
  {
   "cell_type": "markdown",
   "metadata": {},
   "source": [
    "# Построить все n-значные числа из данного"
   ]
  },
  {
   "cell_type": "code",
   "execution_count": 12,
   "metadata": {},
   "outputs": [
    {
     "name": "stdout",
     "output_type": "stream",
     "text": [
      "{72, 42, 74, 78, 47, 48, 82, 84, 87, 24, 27, 28}\n"
     ]
    }
   ],
   "source": [
    "from itertools import permutations\n",
    "\n",
    "n = 2478\n",
    "numbers = set([int(''.join(i)) for i in permutations(str(n), r=2) if i[0]!=\"0\"])    # if i[0]!=\"0\" чтобы первый разряд не пропадал\n",
    "print(numbers)\n"
   ]
  }
 ],
 "metadata": {
  "kernelspec": {
   "display_name": "Python 3",
   "language": "python",
   "name": "python3"
  },
  "language_info": {
   "codemirror_mode": {
    "name": "ipython",
    "version": 3
   },
   "file_extension": ".py",
   "mimetype": "text/x-python",
   "name": "python",
   "nbconvert_exporter": "python",
   "pygments_lexer": "ipython3",
   "version": "3.10.12"
  }
 },
 "nbformat": 4,
 "nbformat_minor": 2
}
