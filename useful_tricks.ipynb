{
 "cells": [
  {
   "cell_type": "code",
   "execution_count": 4,
   "metadata": {},
   "outputs": [
    {
     "name": "stdout",
     "output_type": "stream",
     "text": [
      "720\n"
     ]
    }
   ],
   "source": [
    "# Произведение чисел\n",
    "from math import prod\n",
    "\n",
    "m = [1,2,3,4,5,6]\n",
    "product = prod(m)\n",
    "print(product)\n"
   ]
  },
  {
   "cell_type": "markdown",
   "metadata": {},
   "source": [
    "НОМЕР 15\n",
    "Условие: \n",
    "УГОЛ(37,A,x+45) == УГОЛ(A,x,90) and (not(A+23<120))\n",
    "\n",
    "\n",
    "ВАЖНО!!!\n",
    "Порядок выполнения действий\n",
    "1) В скобках ()\n",
    "2) Логическое отрицание (not)\n",
    "3) Логическое умножение (and)\n",
    "4) Логическое сложение (or)\n",
    "5) Следование (<=)\n",
    "6) Равнозначность (==)\n",
    "\n",
    "\n",
    "```def angle(a,b,c):\n",
    "    return (a + b + c == 180)```\n",
    "    \n",
    "angle(37, A, x+45) == (angle(A, x, 90) and (not(A + 23 < 120)))\n"
   ]
  },
  {
   "cell_type": "code",
   "execution_count": null,
   "metadata": {},
   "outputs": [],
   "source": [
    "return angle(37, A, x+45) == (angle(A, x, 90) and (not(A + 23 < 120)))\n"
   ]
  }
 ],
 "metadata": {
  "kernelspec": {
   "display_name": "Python 3",
   "language": "python",
   "name": "python3"
  },
  "language_info": {
   "codemirror_mode": {
    "name": "ipython",
    "version": 3
   },
   "file_extension": ".py",
   "mimetype": "text/x-python",
   "name": "python",
   "nbconvert_exporter": "python",
   "pygments_lexer": "ipython3",
   "version": "3.10.12"
  }
 },
 "nbformat": 4,
 "nbformat_minor": 2
}
