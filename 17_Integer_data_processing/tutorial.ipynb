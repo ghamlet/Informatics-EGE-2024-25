{
 "cells": [
  {
   "cell_type": "markdown",
   "metadata": {},
   "source": [
    "# Важно обратить внимание на то что в задаче подразумевается под парой\n",
    "\n",
    "1) В данной задаче под парой подразумевается два идущих подряд элемента последовательности.\n",
    "2) В данной задаче под парой подразумевается два различных элемента последовательности.\n",
    "\n"
   ]
  },
  {
   "cell_type": "markdown",
   "metadata": {},
   "source": [
    "# Для подряд идущих элементов последовательности достаточно одного цикла"
   ]
  },
  {
   "cell_type": "code",
   "execution_count": null,
   "metadata": {},
   "outputs": [],
   "source": [
    "f = open(\" \")\n",
    "m = [int(i) for i in f]\n",
    "\n",
    "for i in range(len(m)-1):\n",
    "    if m[i] ... m[i+1] ..."
   ]
  },
  {
   "cell_type": "markdown",
   "metadata": {},
   "source": [
    "# Для двух различных элемента последовательности нужно два цикла"
   ]
  },
  {
   "cell_type": "code",
   "execution_count": null,
   "metadata": {},
   "outputs": [],
   "source": [
    "for i in range(len(m)):\n",
    "    for j in range(i+1, len(m)):\n",
    "        if m[i] % k24 ==0 or m[j] % k24 ==0:"
   ]
  },
  {
   "cell_type": "markdown",
   "metadata": {},
   "source": [
    "# Проверка остатков от деления отрицательных чисел требуем модуля"
   ]
  },
  {
   "cell_type": "code",
   "execution_count": 8,
   "metadata": {},
   "outputs": [
    {
     "name": "stdout",
     "output_type": "stream",
     "text": [
      "1 верно\n",
      "4 неверно\n",
      "1 верно\n"
     ]
    }
   ],
   "source": [
    "print(36 % 5, \"верно\")\n",
    "print(-36 % 5, \"неверно\")\n",
    "print(abs(-36 )% 5, \"верно\")"
   ]
  }
 ],
 "metadata": {
  "kernelspec": {
   "display_name": "Python 3",
   "language": "python",
   "name": "python3"
  },
  "language_info": {
   "codemirror_mode": {
    "name": "ipython",
    "version": 3
   },
   "file_extension": ".py",
   "mimetype": "text/x-python",
   "name": "python",
   "nbconvert_exporter": "python",
   "pygments_lexer": "ipython3",
   "version": "3.10.12"
  }
 },
 "nbformat": 4,
 "nbformat_minor": 2
}
