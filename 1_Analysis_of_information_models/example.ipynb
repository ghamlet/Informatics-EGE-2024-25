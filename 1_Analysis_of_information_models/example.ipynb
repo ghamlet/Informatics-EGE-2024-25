{
 "cells": [
  {
   "cell_type": "code",
   "execution_count": 5,
   "metadata": {},
   "outputs": [
    {
     "name": "stdout",
     "output_type": "stream",
     "text": [
      "1 2 3 4 5 6\n",
      "C D A B G E\n"
     ]
    }
   ],
   "source": [
    "from itertools import permutations\n",
    "\n",
    "table = '24 146 45 12356 34 24'.split()   # с какими дорогами пересекается данная дорога\n",
    "graph = 'DC ED CB EB AB GB'.split()     # связи между вершинами\n",
    "\n",
    "print('1 2 3 4 5 6')   # количество вершин\n",
    "\n",
    "for p in permutations('ABCDEG'):    # перебираем все возможные перестановки вершин\n",
    "    if all(str(p.index(top_2)+1) in table[p.index(top_1)] for top_1, top_2 in graph):\n",
    "        print(*p)\n",
    "        break   "
   ]
  },
  {
   "cell_type": "markdown",
   "metadata": {},
   "source": [
    "![](../images/2.png)"
   ]
  }
 ],
 "metadata": {
  "kernelspec": {
   "display_name": "Python 3",
   "language": "python",
   "name": "python3"
  },
  "language_info": {
   "codemirror_mode": {
    "name": "ipython",
    "version": 3
   },
   "file_extension": ".py",
   "mimetype": "text/x-python",
   "name": "python",
   "nbconvert_exporter": "python",
   "pygments_lexer": "ipython3",
   "version": "3.10.12"
  }
 },
 "nbformat": 4,
 "nbformat_minor": 2
}
