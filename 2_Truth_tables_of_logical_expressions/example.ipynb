{
 "cells": [
  {
   "cell_type": "markdown",
   "metadata": {},
   "source": [
    "# Базовый код в котором потом придётся поработать ручками"
   ]
  },
  {
   "cell_type": "code",
   "execution_count": 12,
   "metadata": {},
   "outputs": [
    {
     "name": "stdout",
     "output_type": "stream",
     "text": [
      "x=0, y=0, z=1, w=0\n",
      "x=0, y=1, z=1, w=0\n",
      "x=1, y=1, z=1, w=0\n"
     ]
    }
   ],
   "source": [
    "from itertools import product\n",
    "\n",
    "for x, y,z,w in product([0,1], repeat=4):\n",
    "    F = not(( (not x) or y)  and  (not w))   or not (z and (not (y and w)))\n",
    "\n",
    "    if F == 0:   # в таблице F = 0\n",
    "        print(f'x={x}, y={y}, z={z}, w={w}')"
   ]
  },
  {
   "cell_type": "markdown",
   "metadata": {},
   "source": [
    "![](../images/5.png)"
   ]
  },
  {
   "cell_type": "markdown",
   "metadata": {},
   "source": [
    "Смотрим на таблицу и на наши данные. Мы видим, что w=0 во всех трёх случаях, значит мы можем расположить нули только в третьей колоннке. Дальше мы видим, что z=1 во всех трёх случаях, значит мы можем расположить единицы только в четвертой колоннке. Дальше мы видим что x и y можно расположить как в первой так и во второй колоннках, поэтому мы начинаем смотреть по строчкам. В третьей строчки из принта мы видим что есть соседние x и y равные 1. В таблице эту 1 можно поставить только в ячейку[1; 2]. Получаем, что в первой колоннке две единицы, следовательно это y, а вторая - x."
   ]
  },
  {
   "cell_type": "markdown",
   "metadata": {},
   "source": [
    "# Шаблон который полностью решает задачу"
   ]
  },
  {
   "cell_type": "code",
   "execution_count": 8,
   "metadata": {},
   "outputs": [
    {
     "name": "stdout",
     "output_type": "stream",
     "text": [
      "y x w z\n"
     ]
    }
   ],
   "source": [
    "# № 19234 ЕГКР 21.12.24 (Уровень: Базовый)\n",
    "\n",
    "from itertools import product, permutations\n",
    "\n",
    "# переписываем функцию из условия\n",
    "def f(x,y,w,z):\n",
    "    return not(( (not x) or y)  and  (not w))   or not (z and (not (y and w)))\n",
    "\n",
    "\n",
    "for x1, x2, x3, x4, x5,x6,x7 in product([0,1], repeat = 7):\n",
    "    # перебираем все комбинации чтобы заполнить пустоты\n",
    "    \n",
    "    # переписывает таблицу из условия и путсые ячейки заменяем переменными\n",
    "    table = [ #  y    x   w  z   F   \n",
    "                (0,  x1, x2, 1,  0),\n",
    "                (x3, 1,  x4, x5, 0), \n",
    "                (1,  0,  x6, x7, 0)\n",
    "            ]\n",
    "    \n",
    "    if len(table) == len(set(table)):               # проверяем что нет одинаковых строк\n",
    "        \n",
    "        for permutation in permutations('wxyz', r = 4):     # перебираем перестановки букв\n",
    "            # zip() объединяет два итератора в пары  [('w', 0), ('x', 0), ('y', 0), ('z', 1)]\n",
    "            # dict() преобразует пары в словарь {'w': 0, 'x': 0, 'y': 0, 'z': 1}\n",
    "            # в функцию f () передаем распакованные значения из словаря  f(w=0, x=0, y=0, z=1)\n",
    "            # таким образом мы передаем различные перестановки букв в функцию f()\n",
    "            \n",
    "            if all(f(**dict(zip(permutation, row))) == row[-1] for row in table):\n",
    "                print(*permutation)\n"
   ]
  },
  {
   "cell_type": "markdown",
   "metadata": {},
   "source": [
    "# Замечательный пример универсальности данного шаблона\n",
    "![](../images/6.png)\n",
    "\n",
    "Задача усложнена тем, что уже две логические функции и в одной из них пропущено значение. Поэтому мы просто создаем две функции f1 и f2 и будем учитывать что они должны выполняться одновременно (and)"
   ]
  },
  {
   "cell_type": "code",
   "execution_count": 13,
   "metadata": {},
   "outputs": [
    {
     "name": "stdout",
     "output_type": "stream",
     "text": [
      "z y w x\n"
     ]
    }
   ],
   "source": [
    "from itertools import product, permutations\n",
    "\n",
    "def f1(w,x,y,z):\n",
    "    return (w == x) and (y <= z)\n",
    "\n",
    "def f2(w,x,y,z):\n",
    "    return (w <=x) <= (y==z)\n",
    "\n",
    "\n",
    "for x1,x2,x3,x4,x5 in product([0,1], repeat=5):\n",
    "    \n",
    "    # переписываем таблицу ровно так как дано в условии и все пропуски заменяем переменными\n",
    "    table = [\n",
    "        (1, x1, 1, 1, 1 , 0),\n",
    "        (x2, 1, 0, 0, 1, x3),\n",
    "        (x4, 0,0, x5, 0, 0)\n",
    "    ]\n",
    "    \n",
    "    if len(table) == len(set(table)):\n",
    "        for p in permutations(\"xyzw\"):\n",
    "            \n",
    "            # в проверке условия появляется проверка и второй функции\n",
    "            # для каждой строки row в функции f1 должно выполняться что результат функции равен значению из строки row[-2] т.к. значение для F1 находится в предпоследней колоннке\n",
    "            # тоже самое и для f2 но проверка идет со значениями F2 из последней колоннки\n",
    "            \n",
    "            if all(f1(**dict(zip(p, row))) == row[-2]  and f2(**dict(zip(p, row))) == row[-1] for row in table): \n",
    "                \n",
    "                print(*p)"
   ]
  },
  {
   "cell_type": "markdown",
   "metadata": {},
   "source": [
    "# Интересный пример, когда таблица дана полная"
   ]
  },
  {
   "cell_type": "code",
   "execution_count": 14,
   "metadata": {},
   "outputs": [
    {
     "name": "stdout",
     "output_type": "stream",
     "text": [
      "z w x y\n"
     ]
    }
   ],
   "source": [
    "from itertools import product, permutations\n",
    "\n",
    "def f(x,y,z,w):\n",
    "    return ((x<= y) or (z == x)) and (w<=z)\n",
    "\n",
    "\n",
    "table= [\n",
    "    (0,0,1,1,1),\n",
    "    (0,0,1,0,0),\n",
    "    (0,1,1,1,0)\n",
    "] \n",
    "\n",
    "for p in permutations(\"xyzw\"):\n",
    "    if all(f(**dict(zip(p,row)))== row[-1] for row in table):\n",
    "        print(*p)"
   ]
  },
  {
   "cell_type": "markdown",
   "metadata": {},
   "source": [
    "# Даже сложные задачки решаются шаблоном (ну почти)\n",
    "![](../images/7.png)"
   ]
  },
  {
   "cell_type": "code",
   "execution_count": 15,
   "metadata": {},
   "outputs": [
    {
     "name": "stdout",
     "output_type": "stream",
     "text": [
      "w y x z\n"
     ]
    }
   ],
   "source": [
    "from itertools import product, permutations\n",
    "\n",
    "def f1(x,y,z,w):\n",
    "    return (w<=y) == (x and z)\n",
    "\n",
    "def f2(x,y,z,w):\n",
    "    return (not x) or (not y) or (not z) or w\n",
    "\n",
    "def f3(x,y,z,w):\n",
    "    return (z or w) and y and x\n",
    "\n",
    "# нюанс в том, что нам дали для каждой функции только одну строчку истинности, получается 3 таблицы\n",
    "table_1 = [(1,0,1,0,1)]\n",
    "table_2 = [(0,1,1,1,0)]\n",
    "table_3 = [(1,1,1,0,1)]\n",
    "\n",
    "for p in permutations(\"xyzw\"):\n",
    "    if  all(f1(**dict(zip(p, row))) == row[-1] for row in table_1) and \\\n",
    "        all(f2(**dict(zip(p, row))) == row[-1] for row in table_2) and \\\n",
    "        all(f3(**dict(zip(p, row))) == row[-1] for row in table_3):\n",
    "        print(*p)"
   ]
  },
  {
   "cell_type": "markdown",
   "metadata": {},
   "source": [
    "# Также шаблон олично подходит для задач, в которых надо определить сколько существует различных способов расстановки переменных"
   ]
  },
  {
   "cell_type": "code",
   "execution_count": 16,
   "metadata": {},
   "outputs": [
    {
     "name": "stdout",
     "output_type": "stream",
     "text": [
      "y x z\n",
      "z x y\n",
      "2\n"
     ]
    }
   ],
   "source": [
    "from itertools import *\n",
    "\n",
    "def f(x,y,z):\n",
    "    return x <= (y and z)\n",
    "\n",
    "table = [\n",
    "    (0,1,0,0),\n",
    "    (1,1,0,0)\n",
    "]\n",
    "\n",
    "k =0\n",
    "for p in permutations(\"xyz\", r=3):\n",
    "    if all(f(**dict(zip(p, row))) == row[-1] for row in table):\n",
    "        print(*p)\n",
    "        k += 1\n",
    "        \n",
    "print(k)"
   ]
  },
  {
   "cell_type": "markdown",
   "metadata": {},
   "source": [
    "# Случай когда известен порядок переменных и нужно сопоставить их с p1, p2, p3...\n",
    "![](../images/8.png)"
   ]
  },
  {
   "cell_type": "code",
   "execution_count": 17,
   "metadata": {},
   "outputs": [
    {
     "name": "stdout",
     "output_type": "stream",
     "text": [
      "x y z w\n",
      "p3 p1 p4 p2\n"
     ]
    }
   ],
   "source": [
    "from itertools import *\n",
    "\n",
    "def f(p1, p2, p3,p4):\n",
    "    return (p3 <= p1) <= (p4 or (not p2))\n",
    "\n",
    "print(\"x y z w\")\n",
    "\n",
    "for x1,x2,x3,x4 in product([0,1], repeat=4):\n",
    "    table = [\n",
    "        (0,0,x1,1,0),\n",
    "        (0,1,x2,1,0),\n",
    "        (1,1,x3,x4,0)\n",
    "    ]\n",
    "    \n",
    "    if len(table) == len(set(table)):\n",
    "        for p in permutations(\"p1 p2 p3 p4\".split()):\n",
    "            if all(f(**dict(zip(p,row))) ==row[-1] for row in table):\n",
    "                print(*p)"
   ]
  },
  {
   "cell_type": "markdown",
   "metadata": {},
   "source": [
    "Получается что в ответ идёт последовательность p1,p2,p3,p4 т.е. ywxz"
   ]
  }
 ],
 "metadata": {
  "kernelspec": {
   "display_name": "Python 3",
   "language": "python",
   "name": "python3"
  },
  "language_info": {
   "codemirror_mode": {
    "name": "ipython",
    "version": 3
   },
   "file_extension": ".py",
   "mimetype": "text/x-python",
   "name": "python",
   "nbconvert_exporter": "python",
   "pygments_lexer": "ipython3",
   "version": "3.10.12"
  }
 },
 "nbformat": 4,
 "nbformat_minor": 2
}
