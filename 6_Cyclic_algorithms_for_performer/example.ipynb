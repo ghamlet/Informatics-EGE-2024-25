{
 "cells": [
  {
   "cell_type": "markdown",
   "metadata": {},
   "source": [
    "# Команды, которые потребуются\n",
    "\n",
    "* forward(Количество шагов) — движение вперёд на заданное количество шагов\n",
    "* backward(Количество шагов) — движение назад на заданное количество шагов\n",
    "* right(Угол) — поворот направо на заданный угол\n",
    "* left(Угол) — поворот налево на заданный угол\n",
    "\n",
    "* tracer(0) - отключение ожидания отрисовки \n",
    "* screensize(10000, 10000)\n",
    "\n",
    "* color(Цвет пера, Цвет заливки) — устанавливает цвет пера и заливки\n",
    "* goto(X, Y) — перемещается на точку с координатами X, Y\n",
    "* dot(Размер, Цвет) — рисует точку в текущей позиции\n",
    "* speed(Скорость) — устанавливает скорость перемещения главного героя (от 0 до 10)\n",
    "* xcor() — возвращает текущую координату по X\n",
    "* ycor() — возвразает текущую координату по Y\n",
    "* up() — поднимает “перо” (другими словами, перестаёт оставлять за собой след)\n",
    "* down() — опускает “перо” (другими словами, начинает оставлять за собой след)\n",
    "* begin_fill() — начинает заливку контура\n",
    "* end_fill() — прекращает заливку контура\n",
    "* done() — завершает работу программы"
   ]
  },
  {
   "cell_type": "markdown",
   "metadata": {},
   "source": [
    "# Увеличение размера рисунка\n",
    "Вводим коэффицент k = 20\n",
    "forward(16 * k)\n"
   ]
  },
  {
   "cell_type": "markdown",
   "metadata": {},
   "source": [
    "# Рисование сетки\n",
    "```\n",
    "penup()\n",
    "for x in range(-40, 40):\n",
    "    for y in range(-40, 40):\n",
    "        goto(x * k, y * k)\n",
    "        dot(3, 'red')\n",
    "\n",
    "update()    \n",
    "done()\n",
    "```"
   ]
  }
 ],
 "metadata": {
  "kernelspec": {
   "display_name": "Python 3",
   "language": "python",
   "name": "python3"
  },
  "language_info": {
   "codemirror_mode": {
    "name": "ipython",
    "version": 3
   },
   "file_extension": ".py",
   "mimetype": "text/x-python",
   "name": "python",
   "nbconvert_exporter": "python",
   "pygments_lexer": "ipython3",
   "version": "3.10.12"
  }
 },
 "nbformat": 4,
 "nbformat_minor": 2
}
